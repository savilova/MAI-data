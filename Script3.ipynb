{
 "cells": [
  {
   "cell_type": "markdown",
   "metadata": {},
   "source": [
    "## Задание 3\n",
    "\n",
    "Есть А/Б тест направленный на конверсию в покупку (подписки и/или платных фильмов). % что либо купивших в обоих группах одинаковый. Средний чек разный. Каким способом можно проверить, что разница не случайна (с использованием sql и/или python)."
   ]
  },
  {
   "cell_type": "markdown",
   "metadata": {},
   "source": [
    "- расчет статистик для пропорций и средних, в чем разница, какие там распределения\n",
    "- каким тестом будем пользоваться?\n",
    "- как выглядит БД, чтобы посчитать конверсию?\n",
    "- загрузка sql в питоне\n",
    "- статистические штуки в питоне"
   ]
  },
  {
   "cell_type": "code",
   "execution_count": null,
   "metadata": {},
   "outputs": [],
   "source": []
  }
 ],
 "metadata": {
  "kernelspec": {
   "display_name": "Python 3",
   "language": "python",
   "name": "python3"
  },
  "language_info": {
   "codemirror_mode": {
    "name": "ipython",
    "version": 3
   },
   "file_extension": ".py",
   "mimetype": "text/x-python",
   "name": "python",
   "nbconvert_exporter": "python",
   "pygments_lexer": "ipython3",
   "version": "3.7.4"
  }
 },
 "nbformat": 4,
 "nbformat_minor": 2
}

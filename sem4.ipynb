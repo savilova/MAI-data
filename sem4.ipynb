{
 "cells": [
  {
   "cell_type": "markdown",
   "metadata": {},
   "source": [
    "31.03.2020\n",
    "### Работа с данными\n",
    "## Семинар 4. Введение в машиное обучение"
   ]
  },
  {
   "cell_type": "markdown",
   "metadata": {},
   "source": [
    "Навигация:\n",
    " - [Теория](#Шпаргалка-по-линейной-регрессии)\n",
    " - [Практика](#Практика.-Цены-на-недвижимость)\n",
    " - [Домашка](#)"
   ]
  },
  {
   "cell_type": "markdown",
   "metadata": {},
   "source": [
    "### Шпаргалка по линейной регрессии\n",
    "\n",
    "Обучающая выборка:\n",
    "$$\n",
    "D = \\{(x_i, y_i) \\}_{i=\\overline{1,N}}\n",
    "$$"
   ]
  },
  {
   "cell_type": "markdown",
   "metadata": {},
   "source": [
    "Задача: восстановить функцию $h(x_i)$ в виде линейной комбинации признаков объекта (предикторов)\n",
    "$$\n",
    "\\forall x_i: h(x_i) = w_0 + w_1x_i^1 + \\ldots + + w_nx_i^n = \\sum_{j=1}^{n}w_jx_i^j = \\overline{x}_i^T\\overline{w}\n",
    "$$\n",
    "\n",
    "Мера качества $L$ для задачи регрессии - квадрат разности между фактическим значением и прогнозом. \n",
    "$$\n",
    "L(h(x_i, \\theta), y_i) = \\left(y_i - h(x_i, \\theta)\\right)^2 = \\left(y_i -  \\sum_{j=1}^{n}w_jx_i^j\\right)^2\n",
    "$$\n"
   ]
  },
  {
   "cell_type": "markdown",
   "metadata": {},
   "source": [
    "Тогда эмпирический риск вычисляется по формуле:\n",
    "$$\n",
    "Q_{\\text{emp}} = \\frac{1}{2N}\\sum_{i=1}^{N}(y_i - \\hat{y_i})^2 = \\frac{1}{2N}\\sum_{i=1}^{N}(y_i - \\overline{x}_i^T\\overline{w})^2 = \\frac{1}{2N}||\\overline{Y}-\\overline{X}^T\\overline{w}||^2 = \\frac{1}{2N}\\left(\\overline{Y}-\\overline{X}^T\\overline{w}\\right)^T\\left(\\overline{Y}-\\overline{X}^T\\overline{w}\\right)\n",
    "$$\n",
    "\n",
    "Такой вид функции потерь называется RSS - *resudal squares sum*, на русский переводится как *остаточная сумма квадратов*.\n",
    "\n",
    "Где $\\hat{y_i}$ - ответ нашего алгоритма машинного обучения $h(x, \\theta)$ на примере $x_i$. Чем больше значение $L$ (т.е. чем ближе оно к нулю, т.к. берём со знаком минус) тем лучше наша модель повторяет опыт $X \\in m \\times n$ где m - количество примеров в обучающей выборке, а $m$ - размерность пространства признаков. $w$ - это вектор параметров модели, который хотим обучить.\n",
    "\n",
    "Мимнимум эмпирического риска можно найти аналитически, он достигается в точке\n",
    "$$\n",
    "\\overline{w} = \\left(X^TX\\right)^{-1}X^T\\overline{y}\n",
    "$$\n",
    "\n",
    "Реализуем функцию для обучения линейной регрессии на python. Загружаем исходные данные - датасет с ценами на дома в Бостоне"
   ]
  },
  {
   "cell_type": "markdown",
   "metadata": {},
   "source": []
  },
  {
   "cell_type": "markdown",
   "metadata": {},
   "source": []
  },
  {
   "cell_type": "markdown",
   "metadata": {},
   "source": []
  },
  {
   "cell_type": "markdown",
   "metadata": {},
   "source": [
    "### Практика. Цены на недвижимость\n",
    "\n",
    "Реализуем функцию для обучения линейной регрессии на python. Исходные данные - датасет с ценами на дома в Бостоне."
   ]
  },
  {
   "cell_type": "code",
   "execution_count": 1,
   "metadata": {},
   "outputs": [
    {
     "name": "stdout",
     "output_type": "stream",
     "text": [
      "Фичи\n",
      "[[6.3200e-03 1.8000e+01 2.3100e+00 ... 1.5300e+01 3.9690e+02 4.9800e+00]\n",
      " [2.7310e-02 0.0000e+00 7.0700e+00 ... 1.7800e+01 3.9690e+02 9.1400e+00]\n",
      " [2.7290e-02 0.0000e+00 7.0700e+00 ... 1.7800e+01 3.9283e+02 4.0300e+00]\n",
      " ...\n",
      " [6.0760e-02 0.0000e+00 1.1930e+01 ... 2.1000e+01 3.9690e+02 5.6400e+00]\n",
      " [1.0959e-01 0.0000e+00 1.1930e+01 ... 2.1000e+01 3.9345e+02 6.4800e+00]\n",
      " [4.7410e-02 0.0000e+00 1.1930e+01 ... 2.1000e+01 3.9690e+02 7.8800e+00]]\n",
      "\n",
      "Целевая переменная y\n",
      "[24.  21.6 34.7 33.4 36.2 28.7 22.9 27.1 16.5 18.9]\n"
     ]
    }
   ],
   "source": [
    "from sklearn.datasets import load_boston\n",
    "\n",
    "boston_dataset = load_boston()\n",
    "\n",
    "features = boston_dataset.data\n",
    "y = boston_dataset.target\n",
    "print('Фичи')\n",
    "print(features)\n",
    "print('\\nЦелевая переменная y')\n",
    "print(y[:10])\n",
    "\n",
    "\n",
    "# текстовое описание датасета\n",
    "# print('\\n',boston_dataset.DESCR)"
   ]
  },
  {
   "cell_type": "markdown",
   "metadata": {},
   "source": [
    "Визуализация выборки"
   ]
  },
  {
   "cell_type": "markdown",
   "metadata": {},
   "source": []
  },
  {
   "cell_type": "code",
   "execution_count": null,
   "metadata": {},
   "outputs": [],
   "source": [
    "from matplotlib import pyplot as plt\n",
    "\n",
    "%matplotlib inline\n",
    "\n",
    "fig, subplot = plt.subplots()\n",
    "plt.scatter(\n",
    "    np.arange(features.shape[0]),\n",
    "    y\n",
    ")\n",
    "subplot.set_xlabel('Индекс объекта недвижимости')\n",
    "subplot.set_ylabel('Цена')\n",
    "fig.show()"
   ]
  },
  {
   "cell_type": "code",
   "execution_count": null,
   "metadata": {},
   "outputs": [],
   "source": [
    "from numpy.linalg import inv, norm\n",
    "import numpy as np\n",
    "from sklearn.linear_model import LinearRegression\n",
    "from scipy.spatial import distance\n",
    "\n",
    "# вычисляем к-ты линейной регрессии\n",
    "w_analytic = np.zeros(features.shape[1])\n",
    "#-------- ВАШ КОД ТУТ -------------------\n",
    "\n",
    "\n",
    "\n",
    "\n",
    "\n",
    "\n",
    "#----------------------------------------\n",
    "\n",
    "print(f'Аналитически определённые коэффициенты {w_analytic}')"
   ]
  },
  {
   "cell_type": "code",
   "execution_count": null,
   "metadata": {},
   "outputs": [],
   "source": [
    "# обучаем модель \"из коробки\"\n",
    "reg = LinearRegression().fit(features, y)\n",
    "print(f\"Коэффициенты, вычисленные моделью sklearn {reg.coef_}\")\n",
    "print(f\"Евклидово расстояние между наборами коэффициентов {norm(reg.coef_ - w_analytic)}\\n\")"
   ]
  },
  {
   "cell_type": "code",
   "execution_count": null,
   "metadata": {},
   "outputs": [],
   "source": [
    "from matplotlib import pyplot as plt\n",
    "\n",
    "%matplotlib inline\n",
    "\n",
    "fig, subplot = plt.subplots()\n",
    "plt.scatter(\n",
    "    np.arange(features.shape[0]),\n",
    "    y, label='train'\n",
    ")\n",
    "plt.scatter(\n",
    "    np.arange(features.shape[0]),\n",
    "    reg.predict(features), label='predict'\n",
    ")\n",
    "subplot.legend()\n",
    "subplot.set_xlabel('Индекс объекта недвижимости')\n",
    "subplot.set_ylabel('Цена')\n",
    "fig.show()"
   ]
  },
  {
   "cell_type": "markdown",
   "metadata": {},
   "source": [
    "Визуализируйте в виде \"столбиков\" коэффициенты \"из коробки\" и полученные аналитически на одном графике. Для наглядности используйте различную \"прозрачность\" столбиков"
   ]
  },
  {
   "cell_type": "code",
   "execution_count": null,
   "metadata": {},
   "outputs": [],
   "source": [
    "y_pred = reg.predict(features)\n",
    "y_true = y"
   ]
  },
  {
   "cell_type": "code",
   "execution_count": null,
   "metadata": {},
   "outputs": [],
   "source": [
    "fig, subplot = plt.subplots()\n",
    "\n",
    "subplot.hist(y_pred - y_true)\n",
    "subplot.set_title('Распределение ошибок')\n",
    "subplot.set_xlabel('Величина ошибки')\n",
    "subplot.set_ylabel('Количество таких ошибок')\n",
    "fig.show()"
   ]
  },
  {
   "cell_type": "code",
   "execution_count": null,
   "metadata": {},
   "outputs": [],
   "source": [
    "from sklearn.metrics import mean_squared_error\n",
    "\n",
    "rmse = mean_squared_error(y_true, y_pred)\n",
    "\n",
    "print('RMSE = %s' % rmse)"
   ]
  },
  {
   "cell_type": "code",
   "execution_count": null,
   "metadata": {},
   "outputs": [],
   "source": [
    "from sklearn.metrics import r2_score\n",
    "\n",
    "print(\"r2_score = %s\" % r2_score(y_true, y_pred))"
   ]
  },
  {
   "cell_type": "code",
   "execution_count": null,
   "metadata": {},
   "outputs": [],
   "source": [
    "from sklearn.metrics import mean_absolute_error\n",
    "\n",
    "print(\"MAE = %s\" % mean_absolute_error(\n",
    "    reg.predict(features), y)\n",
    ")"
   ]
  },
  {
   "cell_type": "code",
   "execution_count": null,
   "metadata": {},
   "outputs": [],
   "source": []
  }
 ],
 "metadata": {
  "kernelspec": {
   "display_name": "Python 3",
   "language": "python",
   "name": "python3"
  },
  "language_info": {
   "codemirror_mode": {
    "name": "ipython",
    "version": 3
   },
   "file_extension": ".py",
   "mimetype": "text/x-python",
   "name": "python",
   "nbconvert_exporter": "python",
   "pygments_lexer": "ipython3",
   "version": "3.7.4"
  }
 },
 "nbformat": 4,
 "nbformat_minor": 2
}
